{
 "cells": [
  {
   "cell_type": "code",
   "execution_count": 1,
   "id": "ab92fcc3",
   "metadata": {
    "id": "ab92fcc3"
   },
   "outputs": [],
   "source": [
    "#requiremetns\n",
    "#!pip install bs4\n",
    "#!pip install requests\n",
    "#!pip install pandas"
   ]
  },
  {
   "cell_type": "code",
   "execution_count": 2,
   "id": "6a4b117b",
   "metadata": {
    "id": "6a4b117b"
   },
   "outputs": [],
   "source": [
    "from bs4 import BeautifulSoup\n",
    "import pandas as pd\n",
    "import requests"
   ]
  },
  {
   "cell_type": "code",
   "execution_count": 3,
   "id": "d46a564e",
   "metadata": {
    "id": "d46a564e"
   },
   "outputs": [],
   "source": [
    "def get_url(search_item):\n",
    "    template = 'https://www.flipkart.com/search?q={}&as=on&as-show=on&otracker=AS_Query_HistoryAutoSuggest_1_2_na_na_na&otracker1=AS_Query_HistoryAutoSuggest_1_2_na_na_na&as-pos=1&as-type=HISTORY&suggestionId=mobile+phones&requestId=e4af82af-8275-4679-9d0f-b2dba2af3686&as-searchtext=mo'\n",
    "    search_item = search_item.replace(\" \",\"+\")\n",
    "    url = template.format(search_item)\n",
    "    url += '&page={}'\n",
    "    return url\n",
    "\n",
    "def extract_phone_model_info(item):\n",
    "    model = item.find('div',{'class':\"_4rR01T\"}).text\n",
    "    ram = item.find('li',{'class':\"rgWa7D\"}).text[0:item.find('li',{'class':\"rgWa7D\"}).text.find('|')]\n",
    "    price = item.find('div',{'class':'_30jeq3 _1_WHN1'}).text\n",
    "    result = [model,ram,price]\n",
    "    return result\n",
    "\n",
    "def main(search_item):\n",
    "    df = pd.DataFrame(columns=['Model', 'RAM in GB', 'PRICE'])\n",
    "    url = get_url(search_item)\n",
    "    for page in range(1,500):\n",
    "        source=requests.get(url.format(page))\n",
    "        soup=BeautifulSoup(source.text,'html')\n",
    "        results = soup.find_all('a',{'class':\"_1fQZEK\"})\n",
    "        for item in results:\n",
    "            result = extract_phone_model_info(item)\n",
    "            if result[1].find('GB RAM') != -1:\n",
    "                result[1] = int(result[1].split()[0])\n",
    "                df.loc[len(df.index)] = result\n",
    "    return df"
   ]
  },
  {
   "cell_type": "code",
   "execution_count": 4,
   "id": "edecbd0f",
   "metadata": {
    "id": "edecbd0f",
    "outputId": "8c01197b-635e-4d7b-8c95-89b85156345c"
   },
   "outputs": [
    {
     "name": "stdout",
     "output_type": "stream",
     "text": [
      "Mobile Phone with Highest RAM and Lowest Price in flipkart is:\n",
      "Model        POCO F4 5G (Night Black, 256 GB)\n",
      "RAM in GB                                  12\n",
      "PRICE                                 ₹29,999\n",
      "Name: 262, dtype: object\n"
     ]
    }
   ],
   "source": [
    "df = main('mobile phones')\n",
    "df.sort_values(by=['RAM in GB','PRICE'],ascending=[False,True],inplace=True)\n",
    "print(\"Mobile Phone with Highest RAM and Lowest Price in flipkart is:\")\n",
    "print(df.iloc(0)[0])"
   ]
  },
  {
   "cell_type": "code",
   "execution_count": 5,
   "id": "fbe8a4f8",
   "metadata": {},
   "outputs": [
    {
     "data": {
      "text/html": [
       "<div>\n",
       "<style scoped>\n",
       "    .dataframe tbody tr th:only-of-type {\n",
       "        vertical-align: middle;\n",
       "    }\n",
       "\n",
       "    .dataframe tbody tr th {\n",
       "        vertical-align: top;\n",
       "    }\n",
       "\n",
       "    .dataframe thead th {\n",
       "        text-align: right;\n",
       "    }\n",
       "</style>\n",
       "<table border=\"1\" class=\"dataframe\">\n",
       "  <thead>\n",
       "    <tr style=\"text-align: right;\">\n",
       "      <th></th>\n",
       "      <th>Model</th>\n",
       "      <th>RAM in GB</th>\n",
       "      <th>PRICE</th>\n",
       "    </tr>\n",
       "  </thead>\n",
       "  <tbody>\n",
       "    <tr>\n",
       "      <th>262</th>\n",
       "      <td>POCO F4 5G (Night Black, 256 GB)</td>\n",
       "      <td>12</td>\n",
       "      <td>₹29,999</td>\n",
       "    </tr>\n",
       "    <tr>\n",
       "      <th>581</th>\n",
       "      <td>vivo V25 5G (Surfing Blue, 256 GB)</td>\n",
       "      <td>12</td>\n",
       "      <td>₹31,999</td>\n",
       "    </tr>\n",
       "    <tr>\n",
       "      <th>662</th>\n",
       "      <td>vivo V25 5G (Surfing Blue, 256 GB)</td>\n",
       "      <td>12</td>\n",
       "      <td>₹31,999</td>\n",
       "    </tr>\n",
       "    <tr>\n",
       "      <th>216</th>\n",
       "      <td>Nothing Phone (1) (White, 256 GB)</td>\n",
       "      <td>12</td>\n",
       "      <td>₹36,399</td>\n",
       "    </tr>\n",
       "    <tr>\n",
       "      <th>304</th>\n",
       "      <td>Nothing Phone (1) (Black, 256 GB)</td>\n",
       "      <td>12</td>\n",
       "      <td>₹36,399</td>\n",
       "    </tr>\n",
       "    <tr>\n",
       "      <th>...</th>\n",
       "      <td>...</td>\n",
       "      <td>...</td>\n",
       "      <td>...</td>\n",
       "    </tr>\n",
       "    <tr>\n",
       "      <th>545</th>\n",
       "      <td>I Kall K2 (Gold, 8 GB)</td>\n",
       "      <td>1</td>\n",
       "      <td>₹3,989</td>\n",
       "    </tr>\n",
       "    <tr>\n",
       "      <th>559</th>\n",
       "      <td>I Kall K2 (Gold, 8 GB)</td>\n",
       "      <td>1</td>\n",
       "      <td>₹3,989</td>\n",
       "    </tr>\n",
       "    <tr>\n",
       "      <th>595</th>\n",
       "      <td>I Kall K2 (Gold, 8 GB)</td>\n",
       "      <td>1</td>\n",
       "      <td>₹3,989</td>\n",
       "    </tr>\n",
       "    <tr>\n",
       "      <th>643</th>\n",
       "      <td>I Kall K2 (Gold, 8 GB)</td>\n",
       "      <td>1</td>\n",
       "      <td>₹3,989</td>\n",
       "    </tr>\n",
       "    <tr>\n",
       "      <th>660</th>\n",
       "      <td>I Kall K2 (Gold, 8 GB)</td>\n",
       "      <td>1</td>\n",
       "      <td>₹3,989</td>\n",
       "    </tr>\n",
       "  </tbody>\n",
       "</table>\n",
       "<p>673 rows × 3 columns</p>\n",
       "</div>"
      ],
      "text/plain": [
       "                                  Model  RAM in GB    PRICE\n",
       "262    POCO F4 5G (Night Black, 256 GB)         12  ₹29,999\n",
       "581  vivo V25 5G (Surfing Blue, 256 GB)         12  ₹31,999\n",
       "662  vivo V25 5G (Surfing Blue, 256 GB)         12  ₹31,999\n",
       "216   Nothing Phone (1) (White, 256 GB)         12  ₹36,399\n",
       "304   Nothing Phone (1) (Black, 256 GB)         12  ₹36,399\n",
       "..                                  ...        ...      ...\n",
       "545              I Kall K2 (Gold, 8 GB)          1   ₹3,989\n",
       "559              I Kall K2 (Gold, 8 GB)          1   ₹3,989\n",
       "595              I Kall K2 (Gold, 8 GB)          1   ₹3,989\n",
       "643              I Kall K2 (Gold, 8 GB)          1   ₹3,989\n",
       "660              I Kall K2 (Gold, 8 GB)          1   ₹3,989\n",
       "\n",
       "[673 rows x 3 columns]"
      ]
     },
     "execution_count": 5,
     "metadata": {},
     "output_type": "execute_result"
    }
   ],
   "source": [
    "#all the mobile phones scraped from flipkart\n",
    "#sorted according to descending order of RAM and ascending order of PRICE\n",
    "df"
   ]
  }
 ],
 "metadata": {
  "colab": {
   "provenance": []
  },
  "kernelspec": {
   "display_name": "Python 3 (ipykernel)",
   "language": "python",
   "name": "python3"
  },
  "language_info": {
   "codemirror_mode": {
    "name": "ipython",
    "version": 3
   },
   "file_extension": ".py",
   "mimetype": "text/x-python",
   "name": "python",
   "nbconvert_exporter": "python",
   "pygments_lexer": "ipython3",
   "version": "3.10.4"
  }
 },
 "nbformat": 4,
 "nbformat_minor": 5
}
